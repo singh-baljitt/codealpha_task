{
 "cells": [
  {
   "cell_type": "code",
   "execution_count": 1,
   "id": "218aaa7d-d0e3-4aed-891b-baec97203db2",
   "metadata": {},
   "outputs": [
    {
     "name": "stdout",
     "output_type": "stream",
     "text": [
      "✅ Headlines scraped and saved to 'bbc_headlines.csv'\n"
     ]
    }
   ],
   "source": [
    "import requests\n",
    "from bs4 import BeautifulSoup\n",
    "import pandas as pd\n",
    "\n",
    "# Step 1: Get the page\n",
    "url = 'https://www.bbc.com/news'\n",
    "response = requests.get(url)\n",
    "soup = BeautifulSoup(response.content, 'html.parser')\n",
    "\n",
    "# Step 2: Find headline elements\n",
    "headlines = []\n",
    "for item in soup.select('h3'):\n",
    "    title = item.get_text(strip=True)\n",
    "    link_tag = item.find_parent('a')\n",
    "    link = 'https://www.bbc.com' + link_tag['href'] if link_tag else ''\n",
    "    headlines.append({'Title': title, 'Link': link})\n",
    "\n",
    "# Step 3: Save to CSV\n",
    "df = pd.DataFrame(headlines)\n",
    "df.to_csv('bbc_headlines.csv', index=False)\n",
    "\n",
    "print(\"✅ Headlines scraped and saved to 'bbc_headlines.csv'\")\n"
   ]
  },
  {
   "cell_type": "code",
   "execution_count": null,
   "id": "f14bedc0-9f2b-4f2e-98ac-8425d2934440",
   "metadata": {},
   "outputs": [],
   "source": []
  }
 ],
 "metadata": {
  "kernelspec": {
   "display_name": "Python [conda env:base] *",
   "language": "python",
   "name": "conda-base-py"
  },
  "language_info": {
   "codemirror_mode": {
    "name": "ipython",
    "version": 3
   },
   "file_extension": ".py",
   "mimetype": "text/x-python",
   "name": "python",
   "nbconvert_exporter": "python",
   "pygments_lexer": "ipython3",
   "version": "3.12.7"
  }
 },
 "nbformat": 4,
 "nbformat_minor": 5
}
