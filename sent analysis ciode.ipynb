{
 "cells": [
  {
   "cell_type": "code",
   "execution_count": null,
   "id": "a2626a34-cb5e-4401-b62d-7323ee1afef9",
   "metadata": {},
   "outputs": [
    {
     "name": "stdin",
     "output_type": "stream",
     "text": [
      "Enter the Device_Type to analyze (e.g., Laptop, Smartphone, Mobile):  MOBILE\n"
     ]
    },
    {
     "name": "stdout",
     "output_type": "stream",
     "text": [
      "\n",
      "Available brands for MOBILE: Vivo, Xiaomi, Realme, Samsung, Oppo, Apple, Acer, HP, Lenovo, Dell, Asus, Huawei\n"
     ]
    },
    {
     "name": "stdin",
     "output_type": "stream",
     "text": [
      "Enter the Brand to analyze under MOBILE:  samsung\n"
     ]
    },
    {
     "name": "stdout",
     "output_type": "stream",
     "text": [
      "\n",
      "Analyzing 2643 reviews for samsung MOBILE...\n"
     ]
    },
    {
     "name": "stderr",
     "output_type": "stream",
     "text": [
      "C:\\Users\\hpwor\\AppData\\Local\\Temp\\ipykernel_9132\\3085341185.py:37: SettingWithCopyWarning: \n",
      "A value is trying to be set on a copy of a slice from a DataFrame.\n",
      "Try using .loc[row_indexer,col_indexer] = value instead\n",
      "\n",
      "See the caveats in the documentation: https://pandas.pydata.org/pandas-docs/stable/user_guide/indexing.html#returning-a-view-versus-a-copy\n",
      "  df_filtered['Clean_Review'] = df_filtered['Review_Text'].apply(clean_text)\n"
     ]
    }
   ],
   "source": [
    "import pandas as pd                                                      #handles csv files\n",
    "import numpy as np                                                       #Provides high-performance numerical func ons.\n",
    "import string                                                            #Gives access to punctua on and character sets.\n",
    "from textblob import TextBlob                                            #Analyze senment polarity of review text\n",
    "from sklearn.feature_extraction.text import TfidfVectorizer              #Converts text into numerical vectors \n",
    "from sklearn.linear_model import LogisticRegression                      #Classifies reviews as posi ve or nega ve \n",
    "from sklearn.model_selection import train_test_split                     # Splits data into training and test sets. \n",
    "from sklearn.metrics import classification_report                        #Shows precision, recall, f1-score, and accuracy \n",
    "\n",
    "# Load dataset\n",
    "df = pd.read_csv(\"mgn386.csv\")  \n",
    "\n",
    "# Ask user for Device_Type\n",
    "device_type = input(\"Enter the Device_Type to analyze (e.g., Laptop, Smartphone, Mobile): \").strip()\n",
    "df_device = df[df['Device_Type'].str.lower() == device_type.lower()]\n",
    "\n",
    "if df_device.empty:\n",
    "    print(f\"No reviews found for device type '{device_type}'. Please check the input.\")\n",
    "else:\n",
    "    # List available brands for the selected device type\n",
    "    available_brands = df_device['Brand'].unique()\n",
    "    print(f\"\\nAvailable brands for {device_type}: {', '.join(available_brands)}\")\n",
    "    brand = input(f\"Enter the Brand to analyze under {device_type}: \").strip()\n",
    "    df_filtered = df_device[df_device['Brand'].str.lower() == brand.lower()]\n",
    "\n",
    "    if df_filtered.empty:\n",
    "        print(f\"No reviews found for brand '{brand}' under device type '{device_type}'.\")\n",
    "    else:\n",
    "        print(f\"\\nAnalyzing {len(df_filtered)} reviews for {brand} {device_type}...\")\n",
    "\n",
    "        # Step 1: Clean text\n",
    "        def clean_text(text):\n",
    "            text = text.lower()\n",
    "            text = ''.join([c for c in text if c not in string.punctuation])\n",
    "            return text\n",
    "\n",
    "        df_filtered['Clean_Review'] = df_filtered['Review_Text'].apply(clean_text)\n",
    "\n",
    "        # Step 2: Sentiment labeling\n",
    "        def get_sentiment(text):\n",
    "            polarity = TextBlob(text).sentiment.polarity\n",
    "            return 1 if polarity > 0 else 0\n",
    "\n",
    "        df_filtered['Sentiment'] = df_filtered['Clean_Review'].apply(get_sentiment)\n",
    "\n",
    "        # Step 3: TF-IDF\n",
    "        vectorizer = TfidfVectorizer(stop_words='english', max_features=500)\n",
    "        X = vectorizer.fit_transform(df_filtered['Clean_Review'])\n",
    "        y = df_filtered['Sentiment']\n",
    "\n",
    "        # Step 4: Train/test split\n",
    "        X_train, X_test, y_train, y_test = train_test_split(X, y, test_size=0.2, random_state=42)\n",
    "        model = LogisticRegression()\n",
    "        model.fit(X_train, y_train)\n",
    "\n",
    "        # Step 5: Evaluation\n",
    "        y_pred = model.predict(X_test)\n",
    "        print(\"\\n--- Classification Report ---\")\n",
    "        print(classification_report(y_test, y_pred))\n",
    "\n",
    "        # Step 6: Top keywords\n",
    "        feature_names = vectorizer.get_feature_names_out()\n",
    "        coef = model.coef_[0]\n",
    "\n",
    "        top_n = 10\n",
    "        top_pos_indices = np.argsort(coef)[-top_n:][::-1]\n",
    "        top_neg_indices = np.argsort(coef)[:top_n]\n",
    "\n",
    "        top_positive_keywords = [(feature_names[i], coef[i]) for i in top_pos_indices]\n",
    "        top_negative_keywords = [(feature_names[i], coef[i]) for i in top_neg_indices]\n",
    "\n",
    "        print(\"\\n--- Top Positive Keywords ---\")\n",
    "        for word, weight in top_positive_keywords:\n",
    "            print(f\"{word}: {weight:.2f}\")\n",
    "\n",
    "        print(\"\\n--- Top Negative Keywords ---\")\n",
    "        for word, weight in top_negative_keywords:\n",
    "            print(f\"{word}: {weight:.2f}\")\n",
    "\n",
    "# Step 7: Overall Sentiment Verdict\n",
    "positive_ratio = df_filtered['Sentiment'].mean() * 100  \n",
    "\n",
    "if positive_ratio > 80:\n",
    "    verdict = \"Best\"\n",
    "elif positive_ratio > 50:\n",
    "    verdict = \"Better\"\n",
    "else:\n",
    "    verdict = \"Good\"\n",
    "\n",
    "print(\"\\n--- Overall Sentiment Analysis ---\")\n",
    "print(f\"{brand} {device_type} has a positive sentiment score of {positive_ratio:.2f}%\")\n",
    "print(f\"→ Verdict: {verdict}\")"
   ]
  },
  {
   "cell_type": "code",
   "execution_count": null,
   "id": "12e1a8fb-877f-4882-918f-0c3c44f11849",
   "metadata": {},
   "outputs": [],
   "source": []
  },
  {
   "cell_type": "code",
   "execution_count": null,
   "id": "f17ce756-2dec-4d31-be22-9f74be2b438f",
   "metadata": {},
   "outputs": [],
   "source": []
  },
  {
   "cell_type": "code",
   "execution_count": null,
   "id": "00f546bf-2d3c-47e3-ba91-0e4a57e7dcaa",
   "metadata": {},
   "outputs": [],
   "source": []
  }
 ],
 "metadata": {
  "kernelspec": {
   "display_name": "Python [conda env:base] *",
   "language": "python",
   "name": "conda-base-py"
  },
  "language_info": {
   "codemirror_mode": {
    "name": "ipython",
    "version": 3
   },
   "file_extension": ".py",
   "mimetype": "text/x-python",
   "name": "python",
   "nbconvert_exporter": "python",
   "pygments_lexer": "ipython3",
   "version": "3.12.7"
  }
 },
 "nbformat": 4,
 "nbformat_minor": 5
}
